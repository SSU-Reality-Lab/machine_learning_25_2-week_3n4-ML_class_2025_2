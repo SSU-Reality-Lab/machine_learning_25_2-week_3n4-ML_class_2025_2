{
  "nbformat": 4,
  "nbformat_minor": 0,
  "metadata": {
    "colab": {
      "provenance": [],
      "toc_visible": true
    },
    "kernelspec": {
      "name": "python3",
      "display_name": "Python 3"
    },
    "language_info": {
      "name": "python"
    }
  },
  "cells": [
    {
      "cell_type": "code",
      "execution_count": 5,
      "metadata": {
        "id": "XdhR8VklZ21m"
      },
      "outputs": [],
      "source": [
        "import numpy as np\n",
        "from sklearn.datasets import make_classification\n",
        "from sklearn.linear_model import LogisticRegression\n",
        "from sklearn.model_selection import train_test_split\n",
        "from sklearn.metrics import roc_curve\n",
        "from sklearn.metrics import roc_auc_score\n",
        "from sklearn.metrics import auc, f1_score\n",
        "import matplotlib.pyplot as plt\n",
        "from imblearn.under_sampling import RandomUnderSampler\n",
        "from sklearn.metrics import precision_recall_curve\n",
        "import imageio.v2 as imageio\n",
        "import random"
      ]
    },
    {
      "cell_type": "markdown",
      "source": [
        "# Details of make_classification function\n",
        "- https://scikit-learn.org/stable/modules/generated/sklearn.datasets.make_classification.html\n",
        "\n"
      ],
      "metadata": {
        "id": "AXqbtIpld-2r"
      }
    },
    {
      "cell_type": "markdown",
      "source": [
        "# 실습 1 : TPR과 FPR로 그려진 AUROC\n"
      ],
      "metadata": {
        "id": "tIp73_Gkg3Wl"
      }
    },
    {
      "cell_type": "code",
      "source": [
        "X, y = make_classification(n_samples=1000, n_classes=2, random_state=1000)"
      ],
      "metadata": {
        "id": "5rphdrsfc8hl"
      },
      "execution_count": null,
      "outputs": []
    },
    {
      "cell_type": "code",
      "source": [
        "# split into train/test sets\n",
        "trainX, testX, trainy, testy = train_test_split(X, y, test_size=0.5, random_state=1000)\n",
        "\n",
        "print('trainy - class0: ', len(trainy)-trainy.sum())\n",
        "print('trainy - class1: ', trainy.sum())\n",
        "print('----------------------')\n",
        "print('testy - class0: ', len(testy)-testy.sum())\n",
        "print('testy - class1: ', testy.sum())\n",
        "print('============================')\n",
        "\n",
        "# make testing dataset balance\n",
        "undersample = RandomUnderSampler(sampling_strategy='majority')\n",
        "testX, testy = undersample.fit_resample(testX, testy)\n",
        "\n",
        "print('Balanced Testing date')\n",
        "print('testy - class0: ', len(testy)-testy.sum())\n",
        "print('testy - class1: ', testy.sum())"
      ],
      "metadata": {
        "colab": {
          "base_uri": "https://localhost:8080/"
        },
        "id": "MGg8buSnfKI8",
        "outputId": "b02d9a1c-d243-4103-f7eb-577f82ee4276"
      },
      "execution_count": null,
      "outputs": [
        {
          "output_type": "stream",
          "name": "stdout",
          "text": [
            "trainy - class0:  253\n",
            "trainy - class1:  247\n",
            "----------------------\n",
            "testy - class0:  249\n",
            "testy - class1:  251\n",
            "============================\n",
            "Balanced Testing date\n",
            "testy - class0:  249\n",
            "testy - class1:  249\n"
          ]
        }
      ]
    },
    {
      "cell_type": "code",
      "source": [
        "model = LogisticRegression(solver='lbfgs')\n",
        "model.fit(trainX, trainy)"
      ],
      "metadata": {
        "colab": {
          "base_uri": "https://localhost:8080/",
          "height": 80
        },
        "id": "uacNKTAlgZ4u",
        "outputId": "117d7162-dbd1-4e4a-e991-77ac274b8db1"
      },
      "execution_count": null,
      "outputs": [
        {
          "output_type": "execute_result",
          "data": {
            "text/plain": [
              "LogisticRegression()"
            ],
            "text/html": [
              "<style>#sk-container-id-1 {\n",
              "  /* Definition of color scheme common for light and dark mode */\n",
              "  --sklearn-color-text: #000;\n",
              "  --sklearn-color-text-muted: #666;\n",
              "  --sklearn-color-line: gray;\n",
              "  /* Definition of color scheme for unfitted estimators */\n",
              "  --sklearn-color-unfitted-level-0: #fff5e6;\n",
              "  --sklearn-color-unfitted-level-1: #f6e4d2;\n",
              "  --sklearn-color-unfitted-level-2: #ffe0b3;\n",
              "  --sklearn-color-unfitted-level-3: chocolate;\n",
              "  /* Definition of color scheme for fitted estimators */\n",
              "  --sklearn-color-fitted-level-0: #f0f8ff;\n",
              "  --sklearn-color-fitted-level-1: #d4ebff;\n",
              "  --sklearn-color-fitted-level-2: #b3dbfd;\n",
              "  --sklearn-color-fitted-level-3: cornflowerblue;\n",
              "\n",
              "  /* Specific color for light theme */\n",
              "  --sklearn-color-text-on-default-background: var(--sg-text-color, var(--theme-code-foreground, var(--jp-content-font-color1, black)));\n",
              "  --sklearn-color-background: var(--sg-background-color, var(--theme-background, var(--jp-layout-color0, white)));\n",
              "  --sklearn-color-border-box: var(--sg-text-color, var(--theme-code-foreground, var(--jp-content-font-color1, black)));\n",
              "  --sklearn-color-icon: #696969;\n",
              "\n",
              "  @media (prefers-color-scheme: dark) {\n",
              "    /* Redefinition of color scheme for dark theme */\n",
              "    --sklearn-color-text-on-default-background: var(--sg-text-color, var(--theme-code-foreground, var(--jp-content-font-color1, white)));\n",
              "    --sklearn-color-background: var(--sg-background-color, var(--theme-background, var(--jp-layout-color0, #111)));\n",
              "    --sklearn-color-border-box: var(--sg-text-color, var(--theme-code-foreground, var(--jp-content-font-color1, white)));\n",
              "    --sklearn-color-icon: #878787;\n",
              "  }\n",
              "}\n",
              "\n",
              "#sk-container-id-1 {\n",
              "  color: var(--sklearn-color-text);\n",
              "}\n",
              "\n",
              "#sk-container-id-1 pre {\n",
              "  padding: 0;\n",
              "}\n",
              "\n",
              "#sk-container-id-1 input.sk-hidden--visually {\n",
              "  border: 0;\n",
              "  clip: rect(1px 1px 1px 1px);\n",
              "  clip: rect(1px, 1px, 1px, 1px);\n",
              "  height: 1px;\n",
              "  margin: -1px;\n",
              "  overflow: hidden;\n",
              "  padding: 0;\n",
              "  position: absolute;\n",
              "  width: 1px;\n",
              "}\n",
              "\n",
              "#sk-container-id-1 div.sk-dashed-wrapped {\n",
              "  border: 1px dashed var(--sklearn-color-line);\n",
              "  margin: 0 0.4em 0.5em 0.4em;\n",
              "  box-sizing: border-box;\n",
              "  padding-bottom: 0.4em;\n",
              "  background-color: var(--sklearn-color-background);\n",
              "}\n",
              "\n",
              "#sk-container-id-1 div.sk-container {\n",
              "  /* jupyter's `normalize.less` sets `[hidden] { display: none; }`\n",
              "     but bootstrap.min.css set `[hidden] { display: none !important; }`\n",
              "     so we also need the `!important` here to be able to override the\n",
              "     default hidden behavior on the sphinx rendered scikit-learn.org.\n",
              "     See: https://github.com/scikit-learn/scikit-learn/issues/21755 */\n",
              "  display: inline-block !important;\n",
              "  position: relative;\n",
              "}\n",
              "\n",
              "#sk-container-id-1 div.sk-text-repr-fallback {\n",
              "  display: none;\n",
              "}\n",
              "\n",
              "div.sk-parallel-item,\n",
              "div.sk-serial,\n",
              "div.sk-item {\n",
              "  /* draw centered vertical line to link estimators */\n",
              "  background-image: linear-gradient(var(--sklearn-color-text-on-default-background), var(--sklearn-color-text-on-default-background));\n",
              "  background-size: 2px 100%;\n",
              "  background-repeat: no-repeat;\n",
              "  background-position: center center;\n",
              "}\n",
              "\n",
              "/* Parallel-specific style estimator block */\n",
              "\n",
              "#sk-container-id-1 div.sk-parallel-item::after {\n",
              "  content: \"\";\n",
              "  width: 100%;\n",
              "  border-bottom: 2px solid var(--sklearn-color-text-on-default-background);\n",
              "  flex-grow: 1;\n",
              "}\n",
              "\n",
              "#sk-container-id-1 div.sk-parallel {\n",
              "  display: flex;\n",
              "  align-items: stretch;\n",
              "  justify-content: center;\n",
              "  background-color: var(--sklearn-color-background);\n",
              "  position: relative;\n",
              "}\n",
              "\n",
              "#sk-container-id-1 div.sk-parallel-item {\n",
              "  display: flex;\n",
              "  flex-direction: column;\n",
              "}\n",
              "\n",
              "#sk-container-id-1 div.sk-parallel-item:first-child::after {\n",
              "  align-self: flex-end;\n",
              "  width: 50%;\n",
              "}\n",
              "\n",
              "#sk-container-id-1 div.sk-parallel-item:last-child::after {\n",
              "  align-self: flex-start;\n",
              "  width: 50%;\n",
              "}\n",
              "\n",
              "#sk-container-id-1 div.sk-parallel-item:only-child::after {\n",
              "  width: 0;\n",
              "}\n",
              "\n",
              "/* Serial-specific style estimator block */\n",
              "\n",
              "#sk-container-id-1 div.sk-serial {\n",
              "  display: flex;\n",
              "  flex-direction: column;\n",
              "  align-items: center;\n",
              "  background-color: var(--sklearn-color-background);\n",
              "  padding-right: 1em;\n",
              "  padding-left: 1em;\n",
              "}\n",
              "\n",
              "\n",
              "/* Toggleable style: style used for estimator/Pipeline/ColumnTransformer box that is\n",
              "clickable and can be expanded/collapsed.\n",
              "- Pipeline and ColumnTransformer use this feature and define the default style\n",
              "- Estimators will overwrite some part of the style using the `sk-estimator` class\n",
              "*/\n",
              "\n",
              "/* Pipeline and ColumnTransformer style (default) */\n",
              "\n",
              "#sk-container-id-1 div.sk-toggleable {\n",
              "  /* Default theme specific background. It is overwritten whether we have a\n",
              "  specific estimator or a Pipeline/ColumnTransformer */\n",
              "  background-color: var(--sklearn-color-background);\n",
              "}\n",
              "\n",
              "/* Toggleable label */\n",
              "#sk-container-id-1 label.sk-toggleable__label {\n",
              "  cursor: pointer;\n",
              "  display: flex;\n",
              "  width: 100%;\n",
              "  margin-bottom: 0;\n",
              "  padding: 0.5em;\n",
              "  box-sizing: border-box;\n",
              "  text-align: center;\n",
              "  align-items: start;\n",
              "  justify-content: space-between;\n",
              "  gap: 0.5em;\n",
              "}\n",
              "\n",
              "#sk-container-id-1 label.sk-toggleable__label .caption {\n",
              "  font-size: 0.6rem;\n",
              "  font-weight: lighter;\n",
              "  color: var(--sklearn-color-text-muted);\n",
              "}\n",
              "\n",
              "#sk-container-id-1 label.sk-toggleable__label-arrow:before {\n",
              "  /* Arrow on the left of the label */\n",
              "  content: \"▸\";\n",
              "  float: left;\n",
              "  margin-right: 0.25em;\n",
              "  color: var(--sklearn-color-icon);\n",
              "}\n",
              "\n",
              "#sk-container-id-1 label.sk-toggleable__label-arrow:hover:before {\n",
              "  color: var(--sklearn-color-text);\n",
              "}\n",
              "\n",
              "/* Toggleable content - dropdown */\n",
              "\n",
              "#sk-container-id-1 div.sk-toggleable__content {\n",
              "  max-height: 0;\n",
              "  max-width: 0;\n",
              "  overflow: hidden;\n",
              "  text-align: left;\n",
              "  /* unfitted */\n",
              "  background-color: var(--sklearn-color-unfitted-level-0);\n",
              "}\n",
              "\n",
              "#sk-container-id-1 div.sk-toggleable__content.fitted {\n",
              "  /* fitted */\n",
              "  background-color: var(--sklearn-color-fitted-level-0);\n",
              "}\n",
              "\n",
              "#sk-container-id-1 div.sk-toggleable__content pre {\n",
              "  margin: 0.2em;\n",
              "  border-radius: 0.25em;\n",
              "  color: var(--sklearn-color-text);\n",
              "  /* unfitted */\n",
              "  background-color: var(--sklearn-color-unfitted-level-0);\n",
              "}\n",
              "\n",
              "#sk-container-id-1 div.sk-toggleable__content.fitted pre {\n",
              "  /* unfitted */\n",
              "  background-color: var(--sklearn-color-fitted-level-0);\n",
              "}\n",
              "\n",
              "#sk-container-id-1 input.sk-toggleable__control:checked~div.sk-toggleable__content {\n",
              "  /* Expand drop-down */\n",
              "  max-height: 200px;\n",
              "  max-width: 100%;\n",
              "  overflow: auto;\n",
              "}\n",
              "\n",
              "#sk-container-id-1 input.sk-toggleable__control:checked~label.sk-toggleable__label-arrow:before {\n",
              "  content: \"▾\";\n",
              "}\n",
              "\n",
              "/* Pipeline/ColumnTransformer-specific style */\n",
              "\n",
              "#sk-container-id-1 div.sk-label input.sk-toggleable__control:checked~label.sk-toggleable__label {\n",
              "  color: var(--sklearn-color-text);\n",
              "  background-color: var(--sklearn-color-unfitted-level-2);\n",
              "}\n",
              "\n",
              "#sk-container-id-1 div.sk-label.fitted input.sk-toggleable__control:checked~label.sk-toggleable__label {\n",
              "  background-color: var(--sklearn-color-fitted-level-2);\n",
              "}\n",
              "\n",
              "/* Estimator-specific style */\n",
              "\n",
              "/* Colorize estimator box */\n",
              "#sk-container-id-1 div.sk-estimator input.sk-toggleable__control:checked~label.sk-toggleable__label {\n",
              "  /* unfitted */\n",
              "  background-color: var(--sklearn-color-unfitted-level-2);\n",
              "}\n",
              "\n",
              "#sk-container-id-1 div.sk-estimator.fitted input.sk-toggleable__control:checked~label.sk-toggleable__label {\n",
              "  /* fitted */\n",
              "  background-color: var(--sklearn-color-fitted-level-2);\n",
              "}\n",
              "\n",
              "#sk-container-id-1 div.sk-label label.sk-toggleable__label,\n",
              "#sk-container-id-1 div.sk-label label {\n",
              "  /* The background is the default theme color */\n",
              "  color: var(--sklearn-color-text-on-default-background);\n",
              "}\n",
              "\n",
              "/* On hover, darken the color of the background */\n",
              "#sk-container-id-1 div.sk-label:hover label.sk-toggleable__label {\n",
              "  color: var(--sklearn-color-text);\n",
              "  background-color: var(--sklearn-color-unfitted-level-2);\n",
              "}\n",
              "\n",
              "/* Label box, darken color on hover, fitted */\n",
              "#sk-container-id-1 div.sk-label.fitted:hover label.sk-toggleable__label.fitted {\n",
              "  color: var(--sklearn-color-text);\n",
              "  background-color: var(--sklearn-color-fitted-level-2);\n",
              "}\n",
              "\n",
              "/* Estimator label */\n",
              "\n",
              "#sk-container-id-1 div.sk-label label {\n",
              "  font-family: monospace;\n",
              "  font-weight: bold;\n",
              "  display: inline-block;\n",
              "  line-height: 1.2em;\n",
              "}\n",
              "\n",
              "#sk-container-id-1 div.sk-label-container {\n",
              "  text-align: center;\n",
              "}\n",
              "\n",
              "/* Estimator-specific */\n",
              "#sk-container-id-1 div.sk-estimator {\n",
              "  font-family: monospace;\n",
              "  border: 1px dotted var(--sklearn-color-border-box);\n",
              "  border-radius: 0.25em;\n",
              "  box-sizing: border-box;\n",
              "  margin-bottom: 0.5em;\n",
              "  /* unfitted */\n",
              "  background-color: var(--sklearn-color-unfitted-level-0);\n",
              "}\n",
              "\n",
              "#sk-container-id-1 div.sk-estimator.fitted {\n",
              "  /* fitted */\n",
              "  background-color: var(--sklearn-color-fitted-level-0);\n",
              "}\n",
              "\n",
              "/* on hover */\n",
              "#sk-container-id-1 div.sk-estimator:hover {\n",
              "  /* unfitted */\n",
              "  background-color: var(--sklearn-color-unfitted-level-2);\n",
              "}\n",
              "\n",
              "#sk-container-id-1 div.sk-estimator.fitted:hover {\n",
              "  /* fitted */\n",
              "  background-color: var(--sklearn-color-fitted-level-2);\n",
              "}\n",
              "\n",
              "/* Specification for estimator info (e.g. \"i\" and \"?\") */\n",
              "\n",
              "/* Common style for \"i\" and \"?\" */\n",
              "\n",
              ".sk-estimator-doc-link,\n",
              "a:link.sk-estimator-doc-link,\n",
              "a:visited.sk-estimator-doc-link {\n",
              "  float: right;\n",
              "  font-size: smaller;\n",
              "  line-height: 1em;\n",
              "  font-family: monospace;\n",
              "  background-color: var(--sklearn-color-background);\n",
              "  border-radius: 1em;\n",
              "  height: 1em;\n",
              "  width: 1em;\n",
              "  text-decoration: none !important;\n",
              "  margin-left: 0.5em;\n",
              "  text-align: center;\n",
              "  /* unfitted */\n",
              "  border: var(--sklearn-color-unfitted-level-1) 1pt solid;\n",
              "  color: var(--sklearn-color-unfitted-level-1);\n",
              "}\n",
              "\n",
              ".sk-estimator-doc-link.fitted,\n",
              "a:link.sk-estimator-doc-link.fitted,\n",
              "a:visited.sk-estimator-doc-link.fitted {\n",
              "  /* fitted */\n",
              "  border: var(--sklearn-color-fitted-level-1) 1pt solid;\n",
              "  color: var(--sklearn-color-fitted-level-1);\n",
              "}\n",
              "\n",
              "/* On hover */\n",
              "div.sk-estimator:hover .sk-estimator-doc-link:hover,\n",
              ".sk-estimator-doc-link:hover,\n",
              "div.sk-label-container:hover .sk-estimator-doc-link:hover,\n",
              ".sk-estimator-doc-link:hover {\n",
              "  /* unfitted */\n",
              "  background-color: var(--sklearn-color-unfitted-level-3);\n",
              "  color: var(--sklearn-color-background);\n",
              "  text-decoration: none;\n",
              "}\n",
              "\n",
              "div.sk-estimator.fitted:hover .sk-estimator-doc-link.fitted:hover,\n",
              ".sk-estimator-doc-link.fitted:hover,\n",
              "div.sk-label-container:hover .sk-estimator-doc-link.fitted:hover,\n",
              ".sk-estimator-doc-link.fitted:hover {\n",
              "  /* fitted */\n",
              "  background-color: var(--sklearn-color-fitted-level-3);\n",
              "  color: var(--sklearn-color-background);\n",
              "  text-decoration: none;\n",
              "}\n",
              "\n",
              "/* Span, style for the box shown on hovering the info icon */\n",
              ".sk-estimator-doc-link span {\n",
              "  display: none;\n",
              "  z-index: 9999;\n",
              "  position: relative;\n",
              "  font-weight: normal;\n",
              "  right: .2ex;\n",
              "  padding: .5ex;\n",
              "  margin: .5ex;\n",
              "  width: min-content;\n",
              "  min-width: 20ex;\n",
              "  max-width: 50ex;\n",
              "  color: var(--sklearn-color-text);\n",
              "  box-shadow: 2pt 2pt 4pt #999;\n",
              "  /* unfitted */\n",
              "  background: var(--sklearn-color-unfitted-level-0);\n",
              "  border: .5pt solid var(--sklearn-color-unfitted-level-3);\n",
              "}\n",
              "\n",
              ".sk-estimator-doc-link.fitted span {\n",
              "  /* fitted */\n",
              "  background: var(--sklearn-color-fitted-level-0);\n",
              "  border: var(--sklearn-color-fitted-level-3);\n",
              "}\n",
              "\n",
              ".sk-estimator-doc-link:hover span {\n",
              "  display: block;\n",
              "}\n",
              "\n",
              "/* \"?\"-specific style due to the `<a>` HTML tag */\n",
              "\n",
              "#sk-container-id-1 a.estimator_doc_link {\n",
              "  float: right;\n",
              "  font-size: 1rem;\n",
              "  line-height: 1em;\n",
              "  font-family: monospace;\n",
              "  background-color: var(--sklearn-color-background);\n",
              "  border-radius: 1rem;\n",
              "  height: 1rem;\n",
              "  width: 1rem;\n",
              "  text-decoration: none;\n",
              "  /* unfitted */\n",
              "  color: var(--sklearn-color-unfitted-level-1);\n",
              "  border: var(--sklearn-color-unfitted-level-1) 1pt solid;\n",
              "}\n",
              "\n",
              "#sk-container-id-1 a.estimator_doc_link.fitted {\n",
              "  /* fitted */\n",
              "  border: var(--sklearn-color-fitted-level-1) 1pt solid;\n",
              "  color: var(--sklearn-color-fitted-level-1);\n",
              "}\n",
              "\n",
              "/* On hover */\n",
              "#sk-container-id-1 a.estimator_doc_link:hover {\n",
              "  /* unfitted */\n",
              "  background-color: var(--sklearn-color-unfitted-level-3);\n",
              "  color: var(--sklearn-color-background);\n",
              "  text-decoration: none;\n",
              "}\n",
              "\n",
              "#sk-container-id-1 a.estimator_doc_link.fitted:hover {\n",
              "  /* fitted */\n",
              "  background-color: var(--sklearn-color-fitted-level-3);\n",
              "}\n",
              "</style><div id=\"sk-container-id-1\" class=\"sk-top-container\"><div class=\"sk-text-repr-fallback\"><pre>LogisticRegression()</pre><b>In a Jupyter environment, please rerun this cell to show the HTML representation or trust the notebook. <br />On GitHub, the HTML representation is unable to render, please try loading this page with nbviewer.org.</b></div><div class=\"sk-container\" hidden><div class=\"sk-item\"><div class=\"sk-estimator fitted sk-toggleable\"><input class=\"sk-toggleable__control sk-hidden--visually\" id=\"sk-estimator-id-1\" type=\"checkbox\" checked><label for=\"sk-estimator-id-1\" class=\"sk-toggleable__label fitted sk-toggleable__label-arrow\"><div><div>LogisticRegression</div></div><div><a class=\"sk-estimator-doc-link fitted\" rel=\"noreferrer\" target=\"_blank\" href=\"https://scikit-learn.org/1.6/modules/generated/sklearn.linear_model.LogisticRegression.html\">?<span>Documentation for LogisticRegression</span></a><span class=\"sk-estimator-doc-link fitted\">i<span>Fitted</span></span></div></label><div class=\"sk-toggleable__content fitted\"><pre>LogisticRegression()</pre></div> </div></div></div></div>"
            ]
          },
          "metadata": {},
          "execution_count": 4
        }
      ]
    },
    {
      "cell_type": "code",
      "source": [
        "# repeat with different skewness\n",
        "roc_list = []\n",
        "lr_acc = []\n",
        "k=1\n",
        "for i in range(0, 10):\n",
        "  pos_ind = np.where(testy==1)[0]\n",
        "  n = int(i/10 * len(pos_ind))\n",
        "  tmp_testX, tmp_testy = np.copy(testX), np.copy(testy)\n",
        "  tmp_testX = np.delete(tmp_testX, pos_ind[:n], axis=0)\n",
        "  tmp_testy = np.delete(tmp_testy, pos_ind[:n], axis=0)\n",
        "  print('nth %d:positive: %d negative: %d'\n",
        "        % (i, tmp_testy.sum(), tmp_testy.shape[0] - tmp_testy.sum()))\n",
        "  print('---------------------------------------------')\n",
        "\n",
        "  # predict probabilities\n",
        "  lr_probs = model.predict_proba(tmp_testX)\n",
        "  # keep probabilities for the positive outcome only\n",
        "  lr_probs = lr_probs[:, 1]\n",
        "  # calculate scores\n",
        "  lr_auc = roc_auc_score(tmp_testy, lr_probs)\n",
        "\n",
        "  # summarize scores\n",
        "  # print('iteration %d: Logistic: ROC AUC=%.3f' % (k, lr_auc))\n",
        "  k += 1\n",
        "  # calculate roc curves\n",
        "  lr_fpr, lr_tpr, _ = roc_curve(tmp_testy, lr_probs)\n",
        "  roc_list.append(lr_auc)\n",
        "\n",
        "plt.plot(np.arange(0, len(roc_list)), roc_list)\n",
        "plt.xlabel('skewness ratio')\n",
        "plt.ylabel('AUROC')\n",
        "plt.title('decreasing positive sample')\n"
      ],
      "metadata": {
        "id": "4xCG-HZTgpbD"
      },
      "execution_count": null,
      "outputs": []
    },
    {
      "cell_type": "markdown",
      "source": [
        "## 질문 1: 데이터 불균형이 심해지는데 AUROC 평가 지표는 왜 높게 형성이 될까요?"
      ],
      "metadata": {
        "id": "4t3wBwClARN0"
      }
    },
    {
      "cell_type": "markdown",
      "source": [
        "## 답변 1\n",
        "-"
      ],
      "metadata": {
        "id": "2UVEkuvKApcL"
      }
    },
    {
      "cell_type": "markdown",
      "source": [
        "# 실습 2 : Precision, Recall, F1 Score의 이해\n"
      ],
      "metadata": {
        "id": "5FRR3C2fhLkA"
      }
    },
    {
      "cell_type": "code",
      "source": [
        "X, y = make_classification(n_samples=1000, n_classes=2, random_state=1000)"
      ],
      "metadata": {
        "id": "0q7pb53rb6IK"
      },
      "execution_count": null,
      "outputs": []
    },
    {
      "cell_type": "code",
      "source": [
        "trainX, testX, trainy, testy = train_test_split(X, y, test_size=0.5, random_state=1000)\n",
        "\n",
        "print('trainy - class0: ', len(trainy)-trainy.sum())\n",
        "print('trainy - class1: ', trainy.sum())\n",
        "print('----------------------')\n",
        "print('testy - class0: ', len(testy)-testy.sum())\n",
        "print('testy - class1: ', testy.sum())\n",
        "print('============================')\n",
        "\n",
        "# make testing dataset balance\n",
        "undersample = RandomUnderSampler(sampling_strategy='majority')\n",
        "testX, testy = undersample.fit_resample(testX, testy)\n",
        "\n",
        "print('Balanced Testing date')\n",
        "print('testy - class0: ', len(testy)-testy.sum())\n",
        "print('testy - class1: ', testy.sum())"
      ],
      "metadata": {
        "id": "0jfOJD8ccDTP"
      },
      "execution_count": null,
      "outputs": []
    },
    {
      "cell_type": "code",
      "source": [
        "model = LogisticRegression(solver='lbfgs')\n",
        "model.fit(trainX, trainy)"
      ],
      "metadata": {
        "id": "FearSFM3cHJ6"
      },
      "execution_count": null,
      "outputs": []
    },
    {
      "cell_type": "code",
      "source": [
        "roc_list = []\n",
        "f1_list = []\n",
        "\n",
        "k=1\n",
        "for i in range(0, 10):\n",
        "  pos_ind = np.where(testy==1)[0]\n",
        "  n = int(i/10 * len(pos_ind))\n",
        "  tmp_testX, tmp_testy = np.copy(testX), np.copy(testy)\n",
        "  tmp_testX = np.delete(tmp_testX, pos_ind[:n], axis=0)\n",
        "  tmp_testy = np.delete(tmp_testy, pos_ind[:n], axis=0)\n",
        "  print('nth %d:positive: %d negative: %d'\n",
        "        % (i, tmp_testy.sum(), tmp_testy.shape[0] - tmp_testy.sum()))\n",
        "  print('---------------------------------------------')\n",
        "\n",
        "\n",
        "  # predict probabilities\n",
        "  lr_probs = model.predict_proba(tmp_testX)\n",
        "  # keep probabilities for the positive outcome only\n",
        "  lr_probs = lr_probs[:, 1]\n",
        "  # predict class values\n",
        "  yhat = model.predict(tmp_testX)\n",
        "  # calculate precision and recall for each threshold\n",
        "  lr_precision, lr_recall, _ = precision_recall_curve(tmp_testy, lr_probs)\n",
        "  # calculate scores\n",
        "  lr_f1, lr_auc = f1_score(tmp_testy, yhat), auc(lr_recall, lr_precision)\n",
        "  # summarize scores\n",
        "  # print('iteration%d Logistic: f1=%.3f auc=%.3f' % (k, lr_f1, lr_auc))\n",
        "  k += 1\n",
        "  roc_list.append(lr_auc)\n",
        "  f1_list.append(lr_f1)\n",
        "\n",
        "plt.plot(np.arange(0, len(roc_list)), roc_list)\n",
        "plt.xlabel('skewness ratio')\n",
        "plt.ylabel('AUC of PR curve')\n",
        "plt.title('decreasing positive sample')\n",
        "\n",
        "plt.figure()\n",
        "plt.plot(np.arange(0, len(roc_list)), f1_list)\n",
        "plt.xlabel('skewness ratio')\n",
        "plt.ylabel('F1')\n",
        "plt.title('decreasing positive sample')\n"
      ],
      "metadata": {
        "id": "SGece4JCcJF0"
      },
      "execution_count": null,
      "outputs": []
    },
    {
      "cell_type": "markdown",
      "source": [
        "## 질문 2: AUC, RC Curve와 F1 Curve는 데이터 불균형에 강건한 평가지표인가요? 강건하다면 AUROC보다  강건한 이유를, 그렇지 않다면 강건하지 않은 이유를 설명해주세요."
      ],
      "metadata": {
        "id": "Oifr_1zhBdpo"
      }
    },
    {
      "cell_type": "markdown",
      "source": [
        "## 답변 2\n",
        "-"
      ],
      "metadata": {
        "id": "NPkdtmhSByQL"
      }
    },
    {
      "cell_type": "markdown",
      "source": [
        "##"
      ],
      "metadata": {
        "id": "4E-mrND2BPc0"
      }
    },
    {
      "cell_type": "markdown",
      "source": [
        "# 실습 3 : Convex Function"
      ],
      "metadata": {
        "id": "gHaJFnrsjsGJ"
      }
    },
    {
      "cell_type": "code",
      "source": [
        "x = np.arange(-2, 2, 0.01)\n",
        "\n",
        "# 세 개의 함수 중 하나를 선택해서 돌려보세요\n",
        "# f = lambda x: 0.5 * x ** 2\n",
        "# f = lambda x: np.cos(np.pi * x)\n",
        "f = lambda x: -0.5 * x ** 4\n",
        "\n",
        "filenames=[]\n",
        "for lamda in np.arange(0, 1, 0.02):\n",
        "  # LHS\n",
        "  tmp_x = lamda*x[0] + (1-lamda)*x[-1]\n",
        "\n",
        "  # RHS\n",
        "  x_line, y_line = np.array([x[0], x[-1]]), np.array([lamda*f(x[0]), (1-lamda)*f(x[-1])])\n",
        "\n",
        "  # compute LHS and RHS\n",
        "  LHS = f(tmp_x)\n",
        "  RHS = lamda*f(x[0]) + (1-lamda)*f(x[-1])\n",
        "  if LHS > RHS:\n",
        "    print('At lamda %0.3f, it is concave' % lamda)\n",
        "    print('lhs %.5f rhs %.5f' % (LHS, RHS))\n",
        "\n",
        "  plt.figure()\n",
        "  # original graph\n",
        "  plt.plot(x, f(x), label='f(x)')\n",
        "  # plot RHS\n",
        "  plt.plot(x_line, y_line, label='%0.3f' % lamda)\n",
        "  # plot LHS\n",
        "  plt.scatter(tmp_x, f(tmp_x))\n",
        "  #title, legennd\n",
        "  plt.title('lhs %.3f rhs %.3f' % (LHS, RHS))\n",
        "  plt.legend()\n",
        "  plt.savefig('lamda %0.3f.png' % lamda)\n",
        "  # plt.close()\n",
        "  filenames.append('lamda %0.3f.png' % lamda)\n",
        "\n",
        "# Build GIF\n",
        "with imageio.get_writer('mygif.gif', mode='I') as writer:\n",
        "    for filename in filenames:\n",
        "        image = imageio.imread(filename)\n",
        "        writer.append_data(image)"
      ],
      "metadata": {
        "id": "XhOZXU_ujyr7"
      },
      "execution_count": null,
      "outputs": []
    },
    {
      "cell_type": "markdown",
      "source": [
        "## 질문 3-1: 3개의 함수를 확인할 수 있습니다. 3개의 함수중 최적화가 쉬운 함수는 무엇이고, 왜 그 함수가 최적화하기 쉬울까요?"
      ],
      "metadata": {
        "id": "B3Y13zrWCbG8"
      }
    },
    {
      "cell_type": "markdown",
      "source": [
        "## 답변 3-1:\n",
        "-"
      ],
      "metadata": {
        "id": "6K1QJkNJC4Qg"
      }
    },
    {
      "cell_type": "markdown",
      "source": [
        "## 질문 3-2: 지역 최적해(local minimum)'와 '전역 최적해(global minimum)'의 차이점과 연관 지어, Non-convex 함수를 최적화할 때 발생할 수 있는 문제점은 무엇인지 설명해주세요."
      ],
      "metadata": {
        "id": "6i3sCqKSCvzh"
      }
    },
    {
      "cell_type": "markdown",
      "source": [
        "## 답변 3-2:\n",
        "-"
      ],
      "metadata": {
        "id": "EF8wCpR1C7kQ"
      }
    },
    {
      "cell_type": "markdown",
      "source": [
        "# 실습 4 : SGD Optimization"
      ],
      "metadata": {
        "id": "BInS8n0MqhHd"
      }
    },
    {
      "cell_type": "code",
      "source": [
        "def make_data():\n",
        "    x1 = random.randint(0, 1)\n",
        "    x2 = random.randint(0, 1)\n",
        "    yy = 0 if (x1 == x2) else 1\n",
        "\n",
        "    # centered at zero\n",
        "    x1 = 2. * (x1 - 0.5)\n",
        "    x2 = 2. * (x2 - 0.5)\n",
        "    yy = 2. * (yy - 0.5)\n",
        "\n",
        "    # add noise\n",
        "    x1 += 0.1 * random.random()\n",
        "    x2 += 0.1 * random.random()\n",
        "    yy += 0.1 * random.random()\n",
        "\n",
        "    return [x1, x2, ], yy\n",
        "\n",
        "def make_batch():\n",
        "    data = [make_data() for ii in range(batch_size)]\n",
        "    labels = [label for xx, label in data]\n",
        "    data = [xx for xx, label in data]\n",
        "    return np.array(data, dtype='float32'), np.array(labels, dtype='float32')"
      ],
      "metadata": {
        "id": "PR8SSeRPqwlb"
      },
      "execution_count": null,
      "outputs": []
    },
    {
      "cell_type": "code",
      "source": [
        "train_data = [make_batch() for ii in range(500)]\n",
        "test_data = [make_batch() for ii in range(50)]"
      ],
      "metadata": {
        "id": "6f_GRAv4rLqf"
      },
      "execution_count": null,
      "outputs": []
    },
    {
      "cell_type": "code",
      "source": [
        "import torch\n",
        "import torch.nn as nn\n",
        "import torch.nn.functional as F\n",
        "import torch.optim as optim\n",
        "from torch.autograd import Variable"
      ],
      "metadata": {
        "id": "usvcT9jbrRuv"
      },
      "execution_count": null,
      "outputs": []
    },
    {
      "cell_type": "code",
      "source": [
        "torch.manual_seed(42)\n",
        "\n",
        "class NN(nn.Module):\n",
        "    def __init__(self):\n",
        "        super(NN, self).__init__()\n",
        "\n",
        "        self.dense1 = nn.Linear(2, 2)\n",
        "        self.dense2 = nn.Linear(2, 1)\n",
        "\n",
        "    def forward(self, x):\n",
        "        x = F.tanh(self.dense1(x))\n",
        "        x = self.dense2(x)\n",
        "        return torch.squeeze(x)"
      ],
      "metadata": {
        "id": "iwc-fDtYrVd8"
      },
      "execution_count": null,
      "outputs": []
    },
    {
      "cell_type": "code",
      "source": [
        "# initialize our network\n",
        "model = NN()\n",
        "\n",
        "## optimizer = stochastic gradient descent\n",
        "optimizer = optim.SGD(model.parameters(), lr = 0.001)\n",
        "\n",
        "\n",
        "## train and test functions\n",
        "def train(epoch):\n",
        "    model.train()\n",
        "    for batch_idx, (data, target) in enumerate(train_data):\n",
        "        data, target = Variable(torch.from_numpy(data)), Variable(torch.from_numpy(target))\n",
        "        optimizer.zero_grad()\n",
        "        output = model(data)\n",
        "        loss = F.mse_loss(output, target)\n",
        "        loss.backward()\n",
        "        optimizer.step()\n",
        "        if batch_idx % 100 == 0:\n",
        "            print('Train Epoch: {} {}\\tLoss: {:.4f}'.format(epoch, batch_idx * len(data), loss.item()))\n",
        "\n",
        "def test():\n",
        "    model.eval()\n",
        "    test_loss = 0\n",
        "    correct = 0\n",
        "    for data, target in test_data:\n",
        "        data, target = Variable(torch.from_numpy(data), volatile=True), Variable(torch.from_numpy(target))\n",
        "        output = model(data)\n",
        "        test_loss += F.mse_loss(output, target)\n",
        "        correct += (np.around(output.data.numpy()) == np.around(target.data.numpy())).sum()\n",
        "\n",
        "    test_loss /= len(test_data)\n",
        "    test_loss = test_loss.item()\n",
        "\n",
        "    print('\\nTest set: Average loss: {:.4f}, Accuracy: {}/{} ({:.2f}%)\\n'.format(\n",
        "        test_loss, correct, batch_size * len(test_data), 100. * correct / (batch_size * len(test_data))) )"
      ],
      "metadata": {
        "id": "lohBBjxlrYUh"
      },
      "execution_count": null,
      "outputs": []
    },
    {
      "cell_type": "code",
      "source": [
        "## run experiment\n",
        "nepochs = 1000\n",
        "lr = 0.001\n",
        "\n",
        "print('lr=', lr)\n",
        "for epoch in range(1, nepochs + 1):\n",
        "    train(epoch)\n",
        "    print('---------------------------------------------')\n",
        "    test()"
      ],
      "metadata": {
        "id": "0q_oi1jfrtxy"
      },
      "execution_count": null,
      "outputs": []
    },
    {
      "cell_type": "markdown",
      "source": [
        "## 실습 4: lr값을 다음 4개의 값으로 돌려보고, 어떤 value가 왜 적절한지 설명해주세요. lr값을 다음 4개의 값으로 돌려보고, 어떤 value가 왜 적절한지 설명해주세요. lr = [0,0001, 0.001, 0.01, 0.1]"
      ],
      "metadata": {
        "id": "1TL-BeLji0nV"
      }
    },
    {
      "cell_type": "markdown",
      "source": [
        "## 답변 4  \n",
        "-  "
      ],
      "metadata": {
        "id": "DL7gfBDri1bs"
      }
    },
    {
      "cell_type": "markdown",
      "source": [
        "# 실습 5: Sigmoid Function"
      ],
      "metadata": {
        "id": "Sdfix_cK0DA8"
      }
    },
    {
      "cell_type": "code",
      "source": [
        "f = lambda x, w, b: 1/(1 + np.exp(-(w*x + b)))\n",
        "\n",
        "x = np.arange(-10, 10, 0.01).reshape([-1, 1])\n",
        "\n",
        "# effect of weight on sigmoid function\n",
        "filenames = []\n",
        "for i in np.arange(1, 5, 0.1):\n",
        "  w = np.ones([1, 1]) * i * 0.5\n",
        "  b = np.ones([1, 1]) * 0\n",
        "\n",
        "  plt.plot(x, f(x, w, b))\n",
        "  plt.title('w = %0.1f' % i)\n",
        "  plt.grid()\n",
        "  plt.savefig('w %0.1f.png' % i)\n",
        "  plt.close()\n",
        "  filenames.append('w %0.1f.png' % i)\n",
        "\n",
        "# Build GIF\n",
        "with imageio.get_writer('w_mygif.gif', mode='I') as writer:\n",
        "    for filename in filenames:\n",
        "        image = imageio.imread(filename)\n",
        "        writer.append_data(image)\n"
      ],
      "metadata": {
        "id": "PlF_9SSqruLJ"
      },
      "execution_count": null,
      "outputs": []
    },
    {
      "cell_type": "code",
      "source": [
        "f = lambda x, w, b: 1/(1 + np.exp(-(w*x + b)))\n",
        "\n",
        "x = np.arange(-10, 10, 0.01).reshape([-1, 1])\n",
        "\n",
        "# effect of bias on sigmoid function\n",
        "filenames = []\n",
        "for i in np.arange(1, 5, 0.1):\n",
        "  w = np.ones([1, 1])\n",
        "  b = np.ones([1, 1])* i\n",
        "\n",
        "  plt.plot(x, f(x, w, b))\n",
        "  plt.title('b = %0.1f' % i)\n",
        "  plt.grid()\n",
        "  plt.savefig('b %0.1f.png' % i)\n",
        "  plt.close()\n",
        "  filenames.append('b %0.1f.png' % i)ㅠ\n",
        "\n",
        "# Build GIF\n",
        "with imageio.get_writer('b_mygif.gif', mode='I') as writer:\n",
        "    for filename in filenames:\n",
        "        image = imageio.imread(filename)\n",
        "        writer.append_data(image)"
      ],
      "metadata": {
        "id": "L5tEXHXB05bJ"
      },
      "execution_count": null,
      "outputs": []
    },
    {
      "cell_type": "markdown",
      "source": [
        "# 실습 6: Logistic Regression"
      ],
      "metadata": {
        "id": "pJCC-ny31Zm_"
      }
    },
    {
      "cell_type": "code",
      "source": [
        "import torch\n",
        "import torch.nn as nn\n",
        "import torchvision\n",
        "import torchvision.transforms as transforms"
      ],
      "metadata": {
        "id": "h6weNkLv1VaV"
      },
      "execution_count": 1,
      "outputs": []
    },
    {
      "cell_type": "code",
      "source": [
        "input_size = 28 * 28  # 784\n",
        "num_classes = 10\n",
        "num_epochs = 5\n",
        "batch_size = 100\n",
        "learning_rate = 0.001"
      ],
      "metadata": {
        "id": "3VBXpIO21faZ"
      },
      "execution_count": 2,
      "outputs": []
    },
    {
      "cell_type": "code",
      "source": [
        "train_dataset = torchvision.datasets.MNIST(root='../../data',\n",
        "                                           train=True,\n",
        "                                           transform=transforms.ToTensor(),\n",
        "                                           download=True)\n",
        "\n",
        "test_dataset = torchvision.datasets.MNIST(root='../../data',\n",
        "                                          train=False,\n",
        "                                          transform=transforms.ToTensor(),\n",
        "                                          download=True)\n",
        "\n",
        "# Data loader (input pipeline)\n",
        "train_loader = torch.utils.data.DataLoader(dataset=train_dataset,\n",
        "                                           batch_size=batch_size,\n",
        "                                           shuffle=True)\n",
        "\n",
        "test_loader = torch.utils.data.DataLoader(dataset=test_dataset,\n",
        "                                          batch_size=batch_size,\n",
        "                                          shuffle=False)"
      ],
      "metadata": {
        "id": "NjQic-8v1nMf"
      },
      "execution_count": null,
      "outputs": []
    },
    {
      "cell_type": "code",
      "source": [
        "# 2.3.1 Check data\n",
        "print(train_dataset)\n",
        "print('----------------')\n",
        "print(test_dataset)\n",
        "print()\n",
        "\n",
        "import matplotlib.pyplot as plt\n",
        "print('training data shape: ', train_dataset.data.shape)\n",
        "n = np.random.randint(0, 60000)\n",
        "plt.imshow(train_dataset.data[n])\n",
        "plt.title(f'n = %d label = %d' % (n, train_dataset.train_labels[n].numpy()))"
      ],
      "metadata": {
        "id": "c3f5447c2kCw"
      },
      "execution_count": null,
      "outputs": []
    },
    {
      "cell_type": "code",
      "source": [
        "#2.4 Logistic regression model\n",
        "model = nn.Linear(input_size, num_classes)\n",
        "\n",
        "#2.5 Cross Entropy Loss\n",
        "# nn.CrossEntropyLoss() computes softmax internally\n",
        "criterion = nn.CrossEntropyLoss()\n",
        "\n",
        "#2.6 Optimizer Stochastic Gradient Descent\n",
        "optimizer = torch.optim.SGD(model.parameters(), lr=learning_rate)\n",
        "\n",
        "#2.7 Train the model\n",
        "total_step = len(train_loader)\n",
        "for epoch in range(num_epochs):\n",
        "    for i, (images, labels) in enumerate(train_loader):\n",
        "        # Reshape images to (batch_size, input_size)\n",
        "        images = images.reshape(-1, input_size)\n",
        "\n",
        "        # Forward pass\n",
        "        outputs = model(images)\n",
        "        loss = criterion(outputs, labels)\n",
        "\n",
        "        # Backward and optimize\n",
        "        optimizer.zero_grad()\n",
        "        loss.backward()\n",
        "        optimizer.step()\n",
        "\n",
        "        if (i+1) % 100 == 0:\n",
        "            print ('Epoch [{}/{}], Step [{}/{}], Loss: {:.4f}'\n",
        "                   .format(epoch+1, num_epochs, i+1, total_step, loss.item()))\n"
      ],
      "metadata": {
        "id": "FWLJSzhO2ofy"
      },
      "execution_count": null,
      "outputs": []
    },
    {
      "cell_type": "code",
      "source": [
        "with torch.no_grad():\n",
        "    correct = 0\n",
        "    total = 0\n",
        "    for images, labels in test_loader:\n",
        "        images = images.reshape(-1, input_size)\n",
        "        outputs = model(images)\n",
        "        _, predicted = torch.max(outputs.data, 1)\n",
        "        total += labels.size(0)\n",
        "        correct += (predicted == labels).sum()\n",
        "\n",
        "    print('Accuracy of the model on the 10000 test images: {} %'.format(100 * correct / total))"
      ],
      "metadata": {
        "id": "H0qHxJfl20bF"
      },
      "execution_count": null,
      "outputs": []
    },
    {
      "cell_type": "markdown",
      "source": [
        "## 코드 구현 6-1 : 아래 log_softmax함수를 구현하세요."
      ],
      "metadata": {
        "id": "0YYOMWRpkxlz"
      }
    },
    {
      "cell_type": "code",
      "source": [
        "class custom_CrossEntropyLoss(nn.Module):\n",
        "    def __init__(self, weight=None, size_average=True):\n",
        "        super(custom_CrossEntropyLoss, self).__init__()\n",
        "\n",
        "    def forward(self, inputs, targets, smooth=1):\n",
        "        num_examples = targets.shape[0]\n",
        "        batch_size = inputs.shape[0]\n",
        "        softmax_outputs = self.log_softmax(inputs)\n",
        "        outputs = softmax_outputs[range(batch_size), targets]\n",
        "        return -torch.sum(outputs)/num_examples\n",
        "\n",
        "    @staticmethod\n",
        "    def log_softmax(x):\n",
        "      return ### put the log_softmax function here ###"
      ],
      "metadata": {
        "id": "dvoS9aOv3K9y"
      },
      "execution_count": 7,
      "outputs": []
    },
    {
      "cell_type": "code",
      "source": [
        "#2.4 Logistic regression model\n",
        "model = nn.Linear(input_size, num_classes)\n",
        "\n",
        "#2.5 Cross Entropy Loss\n",
        "# nn.CrossEntropyLoss() computes softmax internally\n",
        "criterion = nn.CrossEntropyLoss()\n",
        "\n",
        "#2.6 Optimizer Stochastic Gradient Descent\n",
        "optimizer = torch.optim.SGD(model.parameters(), lr=learning_rate)\n",
        "\n",
        "#2.7 Train the model\n",
        "total_step = len(train_loader)\n",
        "for epoch in range(num_epochs):\n",
        "    for i, (images, labels) in enumerate(train_loader):\n",
        "        # Reshape images to (batch_size, input_size)\n",
        "        images = images.reshape(-1, input_size)\n",
        "\n",
        "        # Forward pass\n",
        "        outputs = model(images)\n",
        "        loss = criterion(outputs, labels)\n",
        "\n",
        "        # Backward and optimize\n",
        "        optimizer.zero_grad()\n",
        "        loss.backward()\n",
        "        optimizer.step()\n",
        "\n",
        "        if (i+1) % 100 == 0:\n",
        "            print ('Epoch [{}/{}], Step [{}/{}], Loss: {:.4f}'\n",
        "                   .format(epoch+1, num_epochs, i+1, total_step, loss.item()))"
      ],
      "metadata": {
        "id": "7o8zodMzk9RH"
      },
      "execution_count": null,
      "outputs": []
    },
    {
      "cell_type": "code",
      "source": [
        "with torch.no_grad():\n",
        "    correct = 0\n",
        "    total = 0\n",
        "    for images, labels in test_loader:\n",
        "        images = images.reshape(-1, input_size)\n",
        "        outputs = model(images)\n",
        "        _, predicted = torch.max(outputs.data, 1)\n",
        "        total += labels.size(0)\n",
        "        correct += (predicted == labels).sum()\n",
        "\n",
        "    print('Accuracy of the model on the 10000 test images: {} %'.format(100 * correct / total))"
      ],
      "metadata": {
        "id": "JtcBrioBlBIJ"
      },
      "execution_count": null,
      "outputs": []
    },
    {
      "cell_type": "markdown",
      "source": [
        "## 질문 6 : 다중 분류 문제에서는 왜 sigmoid를 사용하지 못하고 softmax를 사용하게 될까요?"
      ],
      "metadata": {
        "id": "QmMQHFT2lg7j"
      }
    },
    {
      "cell_type": "markdown",
      "source": [
        "## 답변 6\n",
        "-"
      ],
      "metadata": {
        "id": "5l2fGsOsn_Gf"
      }
    }
  ]
}